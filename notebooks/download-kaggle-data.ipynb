{
 "cells": [
  {
   "cell_type": "markdown",
   "id": "da693063-a4a1-44bd-834c-fb4143f733a6",
   "metadata": {},
   "source": [
    "### Step 1: Create a directory .kaggle, and upload the kaggle token there  \n",
    "mkdir .kaggle  \n",
    "mv kaggle.json .kaggle/  \n",
    "chmod 600 ~/.kaggle/kaggle.json"
   ]
  },
  {
   "cell_type": "code",
   "execution_count": 1,
   "id": "fea05b75-a421-4b0b-b9fa-3e2b87e22900",
   "metadata": {},
   "outputs": [],
   "source": [
    "!mkdir .kaggle  \n",
    "!mv kaggle.json .kaggle/  \n",
    "!chmod 600 ~/.kaggle/kaggle.json"
   ]
  },
  {
   "cell_type": "markdown",
   "id": "596073ae-7f55-46e1-8d95-7becd4ac2d6e",
   "metadata": {},
   "source": [
    "### Step2: Install Kaggle API"
   ]
  },
  {
   "cell_type": "code",
   "execution_count": 2,
   "id": "7f689477-26f4-4fe0-b4b1-5ed7d5b738dc",
   "metadata": {
    "collapsed": true,
    "jupyter": {
     "outputs_hidden": true
    }
   },
   "outputs": [
    {
     "name": "stdout",
     "output_type": "stream",
     "text": [
      "Collecting kaggle\n",
      "  Downloading kaggle-1.6.6.tar.gz (84 kB)\n",
      "\u001b[2K     \u001b[90m━━━━━━━━━━━━━━━━━━━━━━━━━━━━━━━━━━━━━━━\u001b[0m \u001b[32m84.6/84.6 kB\u001b[0m \u001b[31m985.1 kB/s\u001b[0m eta \u001b[36m0:00:00\u001b[0m \u001b[36m0:00:01\u001b[0m\n",
      "\u001b[?25h  Preparing metadata (setup.py) ... \u001b[?25ldone\n",
      "\u001b[?25hRequirement already satisfied: six>=1.10 in /root/miniconda3/envs/py3.10/lib/python3.10/site-packages (from kaggle) (1.16.0)\n",
      "Requirement already satisfied: certifi in /root/miniconda3/envs/py3.10/lib/python3.10/site-packages (from kaggle) (2023.11.17)\n",
      "Requirement already satisfied: python-dateutil in /root/miniconda3/envs/py3.10/lib/python3.10/site-packages (from kaggle) (2.8.2)\n",
      "Requirement already satisfied: requests in /root/miniconda3/envs/py3.10/lib/python3.10/site-packages (from kaggle) (2.31.0)\n",
      "Requirement already satisfied: tqdm in /root/miniconda3/envs/py3.10/lib/python3.10/site-packages (from kaggle) (4.66.2)\n",
      "Collecting python-slugify (from kaggle)\n",
      "  Downloading python_slugify-8.0.4-py2.py3-none-any.whl.metadata (8.5 kB)\n",
      "Requirement already satisfied: urllib3 in /root/miniconda3/envs/py3.10/lib/python3.10/site-packages (from kaggle) (2.1.0)\n",
      "Requirement already satisfied: bleach in /root/miniconda3/envs/py3.10/lib/python3.10/site-packages (from kaggle) (6.1.0)\n",
      "Requirement already satisfied: webencodings in /root/miniconda3/envs/py3.10/lib/python3.10/site-packages (from bleach->kaggle) (0.5.1)\n",
      "Collecting text-unidecode>=1.3 (from python-slugify->kaggle)\n",
      "  Downloading text_unidecode-1.3-py2.py3-none-any.whl.metadata (2.4 kB)\n",
      "Requirement already satisfied: charset-normalizer<4,>=2 in /root/miniconda3/envs/py3.10/lib/python3.10/site-packages (from requests->kaggle) (3.3.2)\n",
      "Requirement already satisfied: idna<4,>=2.5 in /root/miniconda3/envs/py3.10/lib/python3.10/site-packages (from requests->kaggle) (3.6)\n",
      "Downloading python_slugify-8.0.4-py2.py3-none-any.whl (10 kB)\n",
      "Downloading text_unidecode-1.3-py2.py3-none-any.whl (78 kB)\n",
      "\u001b[2K   \u001b[90m━━━━━━━━━━━━━━━━━━━━━━━━━━━━━━━━━━━━━━━━\u001b[0m \u001b[32m78.2/78.2 kB\u001b[0m \u001b[31m3.4 MB/s\u001b[0m eta \u001b[36m0:00:00\u001b[0m\n",
      "\u001b[?25hBuilding wheels for collected packages: kaggle\n",
      "  Building wheel for kaggle (setup.py) ... \u001b[?25ldone\n",
      "\u001b[?25h  Created wheel for kaggle: filename=kaggle-1.6.6-py3-none-any.whl size=111943 sha256=5a4691db3ac1a4712db37095f4d02c5548e55b36ce076b985868988c16c11661\n",
      "  Stored in directory: /home/.cache/pip/wheels/53/34/8c/8ca3450d17206d9e37e1ee3aeb47cbb2873d22a9e0c60eb137\n",
      "Successfully built kaggle\n",
      "Installing collected packages: text-unidecode, python-slugify, kaggle\n",
      "Successfully installed kaggle-1.6.6 python-slugify-8.0.4 text-unidecode-1.3\n",
      "\u001b[33mWARNING: Running pip as the 'root' user can result in broken permissions and conflicting behaviour with the system package manager. It is recommended to use a virtual environment instead: https://pip.pypa.io/warnings/venv\u001b[0m\u001b[33m\n",
      "\u001b[0m\n",
      "\u001b[1m[\u001b[0m\u001b[34;49mnotice\u001b[0m\u001b[1;39;49m]\u001b[0m\u001b[39;49m A new release of pip is available: \u001b[0m\u001b[31;49m23.3.2\u001b[0m\u001b[39;49m -> \u001b[0m\u001b[32;49m24.0\u001b[0m\n",
      "\u001b[1m[\u001b[0m\u001b[34;49mnotice\u001b[0m\u001b[1;39;49m]\u001b[0m\u001b[39;49m To update, run: \u001b[0m\u001b[32;49mpip install --upgrade pip\u001b[0m\n"
     ]
    }
   ],
   "source": [
    "# ! pip install kaggle"
   ]
  },
  {
   "cell_type": "code",
   "execution_count": 1,
   "id": "fad1b8d6-739a-42c5-bc6e-61a33b36370a",
   "metadata": {},
   "outputs": [],
   "source": [
    "import kaggle\n",
    "from kaggle.api.kaggle_api_extended import KaggleApi"
   ]
  },
  {
   "cell_type": "code",
   "execution_count": 2,
   "id": "90203253-9fda-4b6a-bc45-968ce6de6e9d",
   "metadata": {},
   "outputs": [],
   "source": [
    "api = KaggleApi()\n",
    "api.authenticate()"
   ]
  },
  {
   "cell_type": "markdown",
   "id": "206d03c8-b123-4acc-b59e-fc8a0e814b92",
   "metadata": {},
   "source": [
    "### Step3: Download dataset zip files"
   ]
  },
  {
   "cell_type": "code",
   "execution_count": 3,
   "id": "b12aff5c-cabc-471b-af42-030d061eea18",
   "metadata": {},
   "outputs": [
    {
     "name": "stdout",
     "output_type": "stream",
     "text": [
      "Dataset URL: https://www.kaggle.com/datasets/prashantlimba/aes2-llama-3-pseudo-labels\n"
     ]
    }
   ],
   "source": [
    "api.dataset_download_files(\"prashantlimba/aes2-llama-3-pseudo-labels\", \"./data/zip\")"
   ]
  },
  {
   "cell_type": "code",
   "execution_count": 4,
   "id": "fb82510c-86cb-4e65-b711-bfc91175ba65",
   "metadata": {},
   "outputs": [],
   "source": [
    "api.competition_download_files(\"learning-agency-lab-automated-essay-scoring-2\", \"./data/zip\")"
   ]
  },
  {
   "cell_type": "markdown",
   "id": "e98a2a09-acc2-46fb-b37f-127c286cf342",
   "metadata": {},
   "source": [
    "### Step4: Unzip the files into desired directory"
   ]
  },
  {
   "cell_type": "code",
   "execution_count": 5,
   "id": "72cca6fa-ed79-487f-836f-dcdfd91db893",
   "metadata": {},
   "outputs": [],
   "source": [
    "import zipfile"
   ]
  },
  {
   "cell_type": "code",
   "execution_count": 6,
   "id": "1679e1f7-7fcc-47e5-9dca-61657f4415ce",
   "metadata": {},
   "outputs": [],
   "source": [
    "with zipfile.ZipFile('./data/zip/aes2-llama-3-pseudo-labels.zip', 'r') as zipref:\n",
    "    zipref.extractall('./data/datasets')"
   ]
  },
  {
   "cell_type": "code",
   "execution_count": 7,
   "id": "cd36a9e0-00c5-40a6-b33a-08d930af56a3",
   "metadata": {},
   "outputs": [],
   "source": [
    "with zipfile.ZipFile('./data/zip/learning-agency-lab-automated-essay-scoring-2.zip', 'r') as zipref:\n",
    "    zipref.extractall('./data/comp')"
   ]
  },
  {
   "cell_type": "code",
   "execution_count": null,
   "id": "62d260d1-231d-4db8-b5b6-068843edbb82",
   "metadata": {},
   "outputs": [],
   "source": []
  },
  {
   "cell_type": "markdown",
   "id": "c2ce1d34-b24e-403a-9d6a-0e11de73a1e8",
   "metadata": {},
   "source": [
    "### Step 5: Uploading data"
   ]
  },
  {
   "cell_type": "code",
   "execution_count": 1,
   "id": "3078aced-91ee-42bd-b97a-5d7321d2f456",
   "metadata": {},
   "outputs": [],
   "source": [
    "import os\n",
    "import json\n",
    "from kaggle.api.kaggle_api_extended import KaggleApi"
   ]
  },
  {
   "cell_type": "code",
   "execution_count": 2,
   "id": "332c1855-6c84-4766-a454-c8d73d2b45e0",
   "metadata": {},
   "outputs": [],
   "source": [
    "api = KaggleApi()\n",
    "api.authenticate()"
   ]
  },
  {
   "cell_type": "code",
   "execution_count": 3,
   "id": "33861573-daaf-4e8b-b93b-8b1b6fc4aed0",
   "metadata": {},
   "outputs": [
    {
     "name": "stdout",
     "output_type": "stream",
     "text": [
      "Title AES2-PRETRAINED-003-PSEUDO-LABELS-MODEL\n",
      "Description: Pseudo labels of llama 3\n",
      "Model path: /home/TEXT-CLASSIFICATION/output/fold0/checkpoint-8500\n"
     ]
    }
   ],
   "source": [
    "dataset_path = \"/home/TEXT-CLASSIFICATION/output/fold0/checkpoint-8500\"\n",
    "title = f\"AES2-PRETRAINED-003-PSEUDO-LABELS-MODEL\"\n",
    "description = \"Pseudo labels of llama 3\"\n",
    "print(\"Title\",title)\n",
    "print(\"Description:\",description)\n",
    "print(f\"Model path: {dataset_path}\")"
   ]
  },
  {
   "cell_type": "code",
   "execution_count": 4,
   "id": "e8405b51-ebdf-47c1-801e-c84a8332ec2a",
   "metadata": {},
   "outputs": [],
   "source": [
    "data = {\n",
    "  \"title\": title,\n",
    "  \"id\": \"prashantlimba/\"+title,\n",
    "  \"licenses\": [\n",
    "    {\n",
    "      \"name\": \"unknown\"\n",
    "    }\n",
    "  ]\n",
    "}\n",
    "with open(os.path.join(dataset_path,'dataset-metadata.json'), 'w') as outfile:\n",
    "    json.dump(data, outfile)"
   ]
  },
  {
   "cell_type": "code",
   "execution_count": null,
   "id": "8d07b24d-a7b9-4e8d-9867-a12347c1f53a",
   "metadata": {},
   "outputs": [
    {
     "name": "stdout",
     "output_type": "stream",
     "text": [
      "Starting upload for file config.json\n"
     ]
    },
    {
     "name": "stderr",
     "output_type": "stream",
     "text": [
      "100%|██████████| 958/958 [00:01<00:00, 927B/s]  \n"
     ]
    },
    {
     "name": "stdout",
     "output_type": "stream",
     "text": [
      "Upload successful: config.json (958B)\n",
      "Starting upload for file model.safetensors\n"
     ]
    },
    {
     "name": "stderr",
     "output_type": "stream",
     "text": [
      "  8%|▊         | 54.3M/704M [00:04<00:34, 20.0MB/s]  "
     ]
    }
   ],
   "source": [
    "# Upload the dataset\n",
    "api.dataset_create_new(\n",
    "    folder = dataset_path,\n",
    "    public=False,\n",
    "    convert_to_csv=False,\n",
    "    dir_mode='skip'\n",
    ")\n",
    "print(\"Dataset uploaded successfully!\")"
   ]
  },
  {
   "cell_type": "code",
   "execution_count": null,
   "id": "ceda8d78-762e-4248-ab2b-4b6796459477",
   "metadata": {},
   "outputs": [],
   "source": []
  }
 ],
 "metadata": {
  "kernelspec": {
   "display_name": "Python 3 (ipykernel)",
   "language": "python",
   "name": "python3"
  },
  "language_info": {
   "codemirror_mode": {
    "name": "ipython",
    "version": 3
   },
   "file_extension": ".py",
   "mimetype": "text/x-python",
   "name": "python",
   "nbconvert_exporter": "python",
   "pygments_lexer": "ipython3",
   "version": "3.10.14"
  }
 },
 "nbformat": 4,
 "nbformat_minor": 5
}
